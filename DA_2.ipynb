{
 "cells": [
  {
   "cell_type": "markdown",
   "metadata": {},
   "source": [
    "data analyst nông thông và thành thị\n",
    "vẽ biểu đồ so sánh  nông thôn và thành thị\n",
    "1. số người thành thị và nông thôn\n",
    "2. thu nhập thành thị và nông thôn\n",
    "3. chi tiêu của thành thị và nông thôn\n",
    "4. ăn uống của thành thị và nông thôn \n",
    "5. so sánh giữa thu nhập và chi tiêu \n"
   ]
  },
  {
   "cell_type": "code",
   "execution_count": 2,
   "metadata": {},
   "outputs": [],
   "source": [
    "import numpy as np\n",
    "import pandas as pd\n",
    "import matplotlib.pyplot as plt\n",
    "\n",
    "data_income = pd.read_csv('./data/data-vn.csv')"
   ]
  },
  {
   "cell_type": "code",
   "execution_count": 41,
   "metadata": {},
   "outputs": [
    {
     "data": {
      "text/html": [
       "<div>\n",
       "<style scoped>\n",
       "    .dataframe tbody tr th:only-of-type {\n",
       "        vertical-align: middle;\n",
       "    }\n",
       "\n",
       "    .dataframe tbody tr th {\n",
       "        vertical-align: top;\n",
       "    }\n",
       "\n",
       "    .dataframe thead th {\n",
       "        text-align: right;\n",
       "    }\n",
       "</style>\n",
       "<table border=\"1\" class=\"dataframe\">\n",
       "  <thead>\n",
       "    <tr style=\"text-align: right;\">\n",
       "      <th></th>\n",
       "      <th>Số người</th>\n",
       "      <th>Thu nhập</th>\n",
       "      <th>Chi tiêu</th>\n",
       "      <th>Chi ăn uống</th>\n",
       "    </tr>\n",
       "  </thead>\n",
       "  <tbody>\n",
       "    <tr>\n",
       "      <th>count</th>\n",
       "      <td>420.000000</td>\n",
       "      <td>420.000000</td>\n",
       "      <td>420.000000</td>\n",
       "      <td>420.000000</td>\n",
       "    </tr>\n",
       "    <tr>\n",
       "      <th>mean</th>\n",
       "      <td>3.904762</td>\n",
       "      <td>142.034524</td>\n",
       "      <td>103.881905</td>\n",
       "      <td>75.329762</td>\n",
       "    </tr>\n",
       "    <tr>\n",
       "      <th>std</th>\n",
       "      <td>1.518533</td>\n",
       "      <td>110.477344</td>\n",
       "      <td>79.139046</td>\n",
       "      <td>52.249685</td>\n",
       "    </tr>\n",
       "    <tr>\n",
       "      <th>min</th>\n",
       "      <td>1.000000</td>\n",
       "      <td>5.500000</td>\n",
       "      <td>4.200000</td>\n",
       "      <td>3.500000</td>\n",
       "    </tr>\n",
       "    <tr>\n",
       "      <th>25%</th>\n",
       "      <td>3.000000</td>\n",
       "      <td>66.425000</td>\n",
       "      <td>51.075000</td>\n",
       "      <td>37.575000</td>\n",
       "    </tr>\n",
       "    <tr>\n",
       "      <th>50%</th>\n",
       "      <td>4.000000</td>\n",
       "      <td>111.100000</td>\n",
       "      <td>81.500000</td>\n",
       "      <td>59.500000</td>\n",
       "    </tr>\n",
       "    <tr>\n",
       "      <th>75%</th>\n",
       "      <td>5.000000</td>\n",
       "      <td>185.775000</td>\n",
       "      <td>132.175000</td>\n",
       "      <td>99.325000</td>\n",
       "    </tr>\n",
       "    <tr>\n",
       "      <th>max</th>\n",
       "      <td>9.000000</td>\n",
       "      <td>782.500000</td>\n",
       "      <td>571.200000</td>\n",
       "      <td>296.400000</td>\n",
       "    </tr>\n",
       "  </tbody>\n",
       "</table>\n",
       "</div>"
      ],
      "text/plain": [
       "         Số người    Thu nhập    Chi tiêu  Chi ăn uống\n",
       "count  420.000000  420.000000  420.000000   420.000000\n",
       "mean     3.904762  142.034524  103.881905    75.329762\n",
       "std      1.518533  110.477344   79.139046    52.249685\n",
       "min      1.000000    5.500000    4.200000     3.500000\n",
       "25%      3.000000   66.425000   51.075000    37.575000\n",
       "50%      4.000000  111.100000   81.500000    59.500000\n",
       "75%      5.000000  185.775000  132.175000    99.325000\n",
       "max      9.000000  782.500000  571.200000   296.400000"
      ]
     },
     "execution_count": 41,
     "metadata": {},
     "output_type": "execute_result"
    }
   ],
   "source": [
    "data_income.describe()\n"
   ]
  },
  {
   "cell_type": "code",
   "execution_count": 42,
   "metadata": {},
   "outputs": [
    {
     "data": {
      "text/html": [
       "<div>\n",
       "<style scoped>\n",
       "    .dataframe tbody tr th:only-of-type {\n",
       "        vertical-align: middle;\n",
       "    }\n",
       "\n",
       "    .dataframe tbody tr th {\n",
       "        vertical-align: top;\n",
       "    }\n",
       "\n",
       "    .dataframe thead th {\n",
       "        text-align: right;\n",
       "    }\n",
       "</style>\n",
       "<table border=\"1\" class=\"dataframe\">\n",
       "  <thead>\n",
       "    <tr style=\"text-align: right;\">\n",
       "      <th></th>\n",
       "      <th>Khu vực</th>\n",
       "      <th>Số người</th>\n",
       "      <th>Thu nhập</th>\n",
       "      <th>Chi tiêu</th>\n",
       "      <th>Chi ăn uống</th>\n",
       "    </tr>\n",
       "  </thead>\n",
       "  <tbody>\n",
       "    <tr>\n",
       "      <th>0</th>\n",
       "      <td>Thành thị</td>\n",
       "      <td>1</td>\n",
       "      <td>186.0</td>\n",
       "      <td>71.2</td>\n",
       "      <td>43.7</td>\n",
       "    </tr>\n",
       "    <tr>\n",
       "      <th>1</th>\n",
       "      <td>Thành thị</td>\n",
       "      <td>1</td>\n",
       "      <td>18.0</td>\n",
       "      <td>19.2</td>\n",
       "      <td>14.7</td>\n",
       "    </tr>\n",
       "    <tr>\n",
       "      <th>2</th>\n",
       "      <td>Thành thị</td>\n",
       "      <td>1</td>\n",
       "      <td>61.5</td>\n",
       "      <td>15.0</td>\n",
       "      <td>11.9</td>\n",
       "    </tr>\n",
       "    <tr>\n",
       "      <th>3</th>\n",
       "      <td>Thành thị</td>\n",
       "      <td>1</td>\n",
       "      <td>48.1</td>\n",
       "      <td>57.9</td>\n",
       "      <td>46.9</td>\n",
       "    </tr>\n",
       "    <tr>\n",
       "      <th>4</th>\n",
       "      <td>Thành thị</td>\n",
       "      <td>1</td>\n",
       "      <td>30.0</td>\n",
       "      <td>20.6</td>\n",
       "      <td>13.7</td>\n",
       "    </tr>\n",
       "  </tbody>\n",
       "</table>\n",
       "</div>"
      ],
      "text/plain": [
       "     Khu vực  Số người  Thu nhập  Chi tiêu  Chi ăn uống\n",
       "0  Thành thị         1     186.0      71.2         43.7\n",
       "1  Thành thị         1      18.0      19.2         14.7\n",
       "2  Thành thị         1      61.5      15.0         11.9\n",
       "3  Thành thị         1      48.1      57.9         46.9\n",
       "4  Thành thị         1      30.0      20.6         13.7"
      ]
     },
     "execution_count": 42,
     "metadata": {},
     "output_type": "execute_result"
    }
   ],
   "source": [
    "data_income.head(5)"
   ]
  },
  {
   "cell_type": "code",
   "execution_count": 10,
   "metadata": {},
   "outputs": [
    {
     "data": {
      "image/png": "[encoded data removed]",
      "text/plain": [
       "<Figure size 432x288 with 1 Axes>"
      ]
     },
     "metadata": {
      "needs_background": "light"
     },
     "output_type": "display_data"
    }
   ],
   "source": [
    "''' vẽ biểu đồ so sánh  nông thôn và thành thị\n",
    "1. số người thành thị và nông thôn\n",
    " '''\n",
    "khu_vuc = ['Thành thị','Nông thôn']\n",
    "songuoi_nongthon = data_income[data_income['Khu vực']=='Thành thị']\n",
    "songuoi_thanhthi = data_income[data_income['Khu vực']=='Nông thôn']\n",
    "songuoi =np.array([sum(songuoi_thanhthi.iloc[:,1]),sum(songuoi_nongthon.iloc[:,1])])\n",
    "\n",
    "\n",
    "x  = np.arange(len(khu_vuc))\n",
    "width = 0.2 # width of the bar\n",
    "fig,ax = plt.subplots()\n",
    "rects1 = ax.bar(x,songuoi,width,label='Thành thị')\n",
    "\n",
    "\n",
    "ax.set_ylabel('số người (người)')\n",
    "ax.set_title('So sánh số người Thành thị vs Nông thôn')\n",
    "ax.set_xticks(x,khu_vuc)\n",
    "\n",
    "\n",
    "ax.bar_label(rects1,padding=1)\n",
    "fig.tight_layout()\n",
    "plt.show()\n",
    "\n",
    "\n",
    "\n",
    "\n"
   ]
  }
 ],
 "metadata": {
  "interpreter": {
   "hash": "6fda49b0a94da3daa77f667eb677ecfa9cc15334e9b92ed1e4e2475cbeb7ed71"
  },
  "kernelspec": {
   "display_name": "Python 3.8.13 ('d2l')",
   "language": "python",
   "name": "python3"
  },
  "language_info": {
   "codemirror_mode": {
    "name": "ipython",
    "version": 3
   },
   "file_extension": ".py",
   "mimetype": "text/x-python",
   "name": "python",
   "nbconvert_exporter": "python",
   "pygments_lexer": "ipython3",
   "version": "3.8.13"
  },
  "orig_nbformat": 4
 },
 "nbformat": 4,
 "nbformat_minor": 2
}
